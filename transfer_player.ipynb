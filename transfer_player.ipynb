{
 "cells": [
  {
   "cell_type": "code",
   "execution_count": 21,
   "id": "cc04d84e-0642-4fe5-b346-84c37ff6cbb1",
   "metadata": {},
   "outputs": [],
   "source": [
    "import pandas as pd \n",
    "import numpy as np\n",
    "import re"
   ]
  },
  {
   "cell_type": "code",
   "execution_count": 22,
   "id": "35bfe6da-520d-42e7-9d37-b9423166e8b8",
   "metadata": {},
   "outputs": [],
   "source": [
    "df = pd.read_csv('origindata/transfers.csv')\n",
    "df['year'] = pd.to_datetime(df['transfer_date'], errors='coerce').dt.year\n",
    "\n",
    "# 불필요 클럽 제거\n",
    "df = df[~df['to_club_name'].isin(['Retired', 'Without Club', '011'])]\n",
    "\n",
    "# 결측 market_value_in_eur → 0\n",
    "df['market_value_in_eur'] = df['market_value_in_eur'].fillna(0)"
   ]
  },
  {
   "cell_type": "code",
   "execution_count": 23,
   "id": "0fa27e3f-8e4f-4560-affb-085fea4cd31d",
   "metadata": {},
   "outputs": [],
   "source": [
    "# 클럽명 정규화 함수 (확장 버전)\n",
    "def normalize_club_name(name: str) -> str:\n",
    "    \"\"\"‘U21’, ‘Res.’, ‘Youth’, ‘B’, ‘C’, ‘II’, ‘S17’ 등과\n",
    "       ‘FC’·‘F.C.’ 접미어를 제거하여 모(母)클럽으로 통합\"\"\"\n",
    "    if pd.isna(name):\n",
    "        return name\n",
    "    name = str(name).strip()\n",
    "\n",
    "    # 접미어 패턴 제거 ─ Youth·U‑팀·Reserves·B·C·II·S17·S21 …\n",
    "    pattern_suffix = re.compile(\n",
    "        r\"\"\"\n",
    "        \\s+                                   # 앞 공백\n",
    "        (?:                                   # 다음 중 하나\n",
    "            U\\d{1,2}        |                 # U17, U21 …\n",
    "            S\\d{1,2}        |                 # S17, S21 …\n",
    "            Y\\d{1,2}        |                 # Y17, Y21 …\n",
    "            Res\\.?          | Reserve[s]? |   # Res., Reserve(s)\n",
    "            Youth | Yth\\.?  |                 # Youth, Yth.\n",
    "            B | C | II | Y.                   # B, C, II, Y\n",
    "        )\n",
    "        $                                     \n",
    "        \"\"\",\n",
    "        flags=re.IGNORECASE | re.VERBOSE\n",
    "    )\n",
    "    name = re.sub(pattern_suffix, '', name)\n",
    "\n",
    "    # 끝의 ' FC' / ' F.C.' 제거\n",
    "    name = re.sub(r'\\s+F\\.?C\\.?$', '', name, flags=re.IGNORECASE)\n",
    "\n",
    "    return name.strip()"
   ]
  },
  {
   "cell_type": "code",
   "execution_count": 24,
   "id": "a572e281-3e43-47da-bfb2-918b8bbb5b10",
   "metadata": {},
   "outputs": [],
   "source": [
    "df['club_clean'] = df['to_club_name'].apply(normalize_club_name)\n",
    "\n",
    "# 7. 그룹 연산: 클린 클럽 × 연도\n",
    "grouped = (\n",
    "    df.groupby(['club_clean', 'year'], as_index=False)['market_value_in_eur']\n",
    "      .sum()\n",
    ")\n",
    "\n",
    "# 8. 10 000€ 단위로 환산 & 반올림\n",
    "grouped['value_10k'] = (grouped['market_value_in_eur'] / 10000).round(2)\n"
   ]
  },
  {
   "cell_type": "code",
   "execution_count": 25,
   "id": "b9022e81-9fd3-45dd-89b6-413896e7b767",
   "metadata": {},
   "outputs": [
    {
     "name": "stdout",
     "output_type": "stream",
     "text": [
      "year             1993  1994  1995  1996  1997  1998  1999  2000  2001  2002  \\\n",
      "club_clean                                                                    \n",
      "011               0.0   0.0   0.0   0.0   0.0   0.0   0.0   0.0   0.0   0.0   \n",
      "1 Dezembro        0.0   0.0   0.0   0.0   0.0   0.0   0.0   0.0   0.0   0.0   \n",
      "1. Göppinger SV   0.0   0.0   0.0   0.0   0.0   0.0   0.0   0.0   0.0   0.0   \n",
      "1.FC Bocholt      0.0   0.0   0.0   0.0   0.0   0.0   0.0   0.0   0.0   0.0   \n",
      "1.FC Düren        0.0   0.0   0.0   0.0   0.0   0.0   0.0   0.0   0.0   0.0   \n",
      "\n",
      "year             ...  2017  2018  2019  2020  2021  2022  2023  2024  2025  \\\n",
      "club_clean       ...                                                         \n",
      "011              ...   0.0   0.0   0.0   0.0   0.0   0.0   0.0   0.0   0.0   \n",
      "1 Dezembro       ...   0.0   0.0   0.0   0.0   0.0   0.0   0.0   0.0   0.0   \n",
      "1. Göppinger SV  ...   0.0   0.0   0.0   0.0   0.0   0.0   0.0   0.0   0.0   \n",
      "1.FC Bocholt     ...   2.5   0.0   0.0   0.0   0.0   0.0   0.0   0.0   0.0   \n",
      "1.FC Düren       ...   0.0   0.0   0.0   0.0   0.0   0.0   0.0   0.0   0.0   \n",
      "\n",
      "year             2026  \n",
      "club_clean             \n",
      "011               0.0  \n",
      "1 Dezembro        0.0  \n",
      "1. Göppinger SV   0.0  \n",
      "1.FC Bocholt      0.0  \n",
      "1.FC Düren        0.0  \n",
      "\n",
      "[5 rows x 34 columns]\n"
     ]
    }
   ],
   "source": [
    "# 9. 피벗: 행=클럽, 열=연도\n",
    "pivot = (\n",
    "    grouped\n",
    "      .pivot(index='club_clean', columns='year', values='value_10k')\n",
    "      .fillna(0)\n",
    "      .sort_index()\n",
    ")\n",
    "\n",
    "# 10. 저장\n",
    "pivot.to_csv('dataset/transfer_value_by_club_year.csv', encoding='utf-8-sig')\n",
    "\n",
    "print(pivot.head())\n"
   ]
  },
  {
   "cell_type": "code",
   "execution_count": 26,
   "id": "92464980-14b6-49e0-8f6d-1b761cb42a42",
   "metadata": {},
   "outputs": [
    {
     "name": "stdout",
     "output_type": "stream",
     "text": [
      "          club       sum  순위\n",
      "657    Chelsea  391000.0   1\n",
      "1486  Juventus  259485.0   2\n",
      "2128  Paris SG  258580.0   3\n",
      "1790  Man City  249052.5   4\n",
      "1791   Man Utd  232252.5   5\n"
     ]
    }
   ],
   "source": [
    "# 피벗 테이블 불러오기\n",
    "pivot = pd.read_csv('dataset/transfer_value_by_club_year_cleaned.csv', index_col=0)\n",
    "pivot['sum'] = pivot.sum(axis=1)\n",
    "\n",
    "# 전체 합이 0인 클럽 제거\n",
    "pivot = pivot[pivot['sum'] > 0]\n",
    "\n",
    "# '순위' 열 추가 (sum 기준 내림차순 순위)\n",
    "pivot['순위'] = pivot['sum'].rank(ascending=False, method='min').astype(int)\n",
    "\n",
    "# 필요한 열만 선택\n",
    "result = pivot[['sum', '순위']].copy()\n",
    "result = result.reset_index().rename(columns={'club_clean': 'club'})\n",
    "\n",
    "# 정렬 (순위 오름차순 = sum 내림차순)\n",
    "result = result.sort_values(by='순위')\n",
    "\n",
    "# 저장 및 확인\n",
    "result.to_csv('dataset/transfer_value_confirmed.csv', index=False, encoding='utf-8-sig')\n",
    "print(result.head())\n"
   ]
  },
  {
   "cell_type": "code",
   "execution_count": null,
   "id": "b813ed43-4e04-43ca-80a2-e140e803043a",
   "metadata": {},
   "outputs": [],
   "source": []
  }
 ],
 "metadata": {
  "kernelspec": {
   "display_name": "Python [conda env:base] *",
   "language": "python",
   "name": "conda-base-py"
  },
  "language_info": {
   "codemirror_mode": {
    "name": "ipython",
    "version": 3
   },
   "file_extension": ".py",
   "mimetype": "text/x-python",
   "name": "python",
   "nbconvert_exporter": "python",
   "pygments_lexer": "ipython3",
   "version": "3.12.2"
  }
 },
 "nbformat": 4,
 "nbformat_minor": 5
}
