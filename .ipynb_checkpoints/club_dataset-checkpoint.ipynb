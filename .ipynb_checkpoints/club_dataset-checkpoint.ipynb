{
 "cells": [
  {
   "cell_type": "code",
   "execution_count": 3,
   "id": "c2472867-ecd8-44fb-b868-69904320b695",
   "metadata": {},
   "outputs": [],
   "source": [
    "#crawling \n",
    "#!pip install selenium webdriver-manager pandas"
   ]
  },
  {
   "cell_type": "code",
   "execution_count": 33,
   "id": "8d9f815d-1439-4b3b-b73a-298ba2fa7e72",
   "metadata": {},
   "outputs": [],
   "source": [
    "import time\n",
    "import pandas as pd\n",
    "from selenium import webdriver\n",
    "from selenium.webdriver.chrome.options import Options\n",
    "from selenium.webdriver.chrome.service import Service\n",
    "from selenium.webdriver.support.ui import Select, WebDriverWait\n",
    "from selenium.webdriver.common.by import By\n",
    "from selenium.webdriver.support import expected_conditions as EC\n",
    "from webdriver_manager.chrome import ChromeDriverManager"
   ]
  },
  {
   "cell_type": "code",
   "execution_count": 43,
   "id": "213dd93b-53e3-4b2c-9105-0be3fcc83700",
   "metadata": {},
   "outputs": [],
   "source": [
    "def init_driver():\n",
    "    options = webdriver.ChromeOptions()\n",
    "    options.add_argument(\"--headless\")\n",
    "    options.add_argument(\"--no-sandbox\")\n",
    "    options.add_argument(\"--disable-dev-shm-usage\")\n",
    "    driver = webdriver.Chrome(service=Service(ChromeDriverManager().install()), options=options)\n",
    "    return driver\n"
   ]
  },
  {
   "cell_type": "code",
   "execution_count": 44,
   "id": "15009567-9aaf-4a44-9ddd-60bb181fc9bb",
   "metadata": {},
   "outputs": [],
   "source": [
    "def load_page(driver):\n",
    "    driver.get(\"https://football-observatory.com/Tool-Performance\")\n",
    "    WebDriverWait(driver, 10).until(EC.frame_to_be_available_and_switch_to_it((By.CSS_SELECTOR, \"iframe\")))\n",
    "\n",
    "    select_element = WebDriverWait(driver, 10).until(\n",
    "        EC.presence_of_element_located((By.ID, \"filter-value-tab1.2\"))\n",
    "    )\n",
    "    select = Select(select_element)\n",
    "    select.select_by_value(\"All\")\n",
    "    time.sleep(2)  # 로딩 대기\n"
   ]
  },
  {
   "cell_type": "code",
   "execution_count": 45,
   "id": "93c0b5b3-d93a-4447-a1e8-ec4dbb4e43ca",
   "metadata": {},
   "outputs": [],
   "source": [
    "def extract_data(driver):\n",
    "    tab = driver.find_element(By.ID, \"tab1\")\n",
    "    table_holder = tab.find_element(By.CLASS_NAME, \"tabulator-tableholder\")\n",
    "    table = tab.find_element(By.CLASS_NAME, \"tabulator-table\")\n",
    "\n",
    "    all_data = []\n",
    "    prev_style = None\n",
    "\n",
    "    while True:\n",
    "        driver.execute_script(\"arguments[0].scrollTop = arguments[0].scrollHeight\", table_holder)\n",
    "        time.sleep(0.7)\n",
    "\n",
    "        style = table.get_attribute(\"style\")\n",
    "        rows = table.find_elements(By.CLASS_NAME, \"tabulator-row\")\n",
    "\n",
    "        for row in rows:\n",
    "            cells = row.find_elements(By.CLASS_NAME, \"tabulator-cell\")\n",
    "            row_data = tuple(cell.text.strip() for cell in cells)\n",
    "            if row_data not in all_data:\n",
    "                all_data.append(row_data)\n",
    "\n",
    "        if style == prev_style:\n",
    "            break\n",
    "        prev_style = style\n",
    "\n",
    "    header_elements = driver.find_elements(By.CSS_SELECTOR, \".tabulator-col\")\n",
    "    headers = [h.text.strip() for h in header_elements]\n",
    "\n",
    "    return all_data, headers\n"
   ]
  },
  {
   "cell_type": "code",
   "execution_count": 46,
   "id": "75e72eae-b50a-4533-8347-57dbe48f9253",
   "metadata": {},
   "outputs": [],
   "source": [
    "def save_csv(data, headers, filename):\n",
    "    df = pd.DataFrame(data, columns=headers)\n",
    "    df.to_csv(filename, index=False, encoding=\"utf-8-sig\")\n",
    "    print(f\"✅ {filename} 저장 완료! (총 {len(data)}건)\")\n"
   ]
  },
  {
   "cell_type": "code",
   "execution_count": 47,
   "id": "c3bf98f5-3ac0-4ef1-93f3-4a2843b05f57",
   "metadata": {},
   "outputs": [],
   "source": [
    "def crawl_all_data():\n",
    "    driver = init_driver()\n",
    "\n",
    "    try:\n",
    "        load_page(driver)\n",
    "        data, headers = extract_data(driver)\n",
    "        save_csv(data, headers, \"football_observatory_tab1_all.csv\")\n",
    "\n",
    "    finally:\n",
    "        driver.quit()\n"
   ]
  },
  {
   "cell_type": "code",
   "execution_count": null,
   "id": "4aec9ad4-f470-4027-bfa2-b348c829cacb",
   "metadata": {},
   "outputs": [],
   "source": [
    "\n"
   ]
  },
  {
   "cell_type": "code",
   "execution_count": null,
   "id": "f1e73b82-e751-4a53-a984-f5d7dde9b8fa",
   "metadata": {},
   "outputs": [],
   "source": []
  }
 ],
 "metadata": {
  "kernelspec": {
   "display_name": "Python [conda env:base] *",
   "language": "python",
   "name": "conda-base-py"
  },
  "language_info": {
   "codemirror_mode": {
    "name": "ipython",
    "version": 3
   },
   "file_extension": ".py",
   "mimetype": "text/x-python",
   "name": "python",
   "nbconvert_exporter": "python",
   "pygments_lexer": "ipython3",
   "version": "3.12.2"
  }
 },
 "nbformat": 4,
 "nbformat_minor": 5
}
