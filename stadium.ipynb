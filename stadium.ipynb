{
 "cells": [
  {
   "cell_type": "code",
   "execution_count": 3,
   "id": "613a8426-ebd6-4bff-ab63-55fb1ac08245",
   "metadata": {},
   "outputs": [],
   "source": [
    "import pandas as pd\n",
    "import numpy as np"
   ]
  },
  {
   "cell_type": "code",
   "execution_count": 5,
   "id": "e8c3883e-0b0a-475b-953f-cb0625bf9fb4",
   "metadata": {},
   "outputs": [],
   "source": [
    "df_std = pd.read_csv('origindata/football_stadiums.csv')\n",
    "\n",
    "df_std = (\n",
    "    df_std[[\"HomeTeams\", \"Capacity\"]]\n",
    "      .dropna(subset=[\"HomeTeams\", \"Capacity\"])           # 결측치 제거\n",
    "      .assign(Capacity=lambda x: pd.to_numeric(x[\"Capacity\"], errors=\"coerce\"))\n",
    ")\n"
   ]
  },
  {
   "cell_type": "code",
   "execution_count": 7,
   "id": "2bcd5632-c2b8-4488-a3c4-8408bbdcaa4c",
   "metadata": {},
   "outputs": [
    {
     "name": "stdout",
     "output_type": "stream",
     "text": [
      "                  team  Capacity\n",
      "2020          Scarlets     14870\n",
      "2020      Llanelli RFC     14870\n",
      "2021  Aberystwyth Town      5000\n",
      "2022                 -     74500\n",
      "2023       Wrexham AFC     15850\n"
     ]
    }
   ],
   "source": [
    "# HomeTeams 셀 분해 → 팀별 행 만들기\n",
    "df_expanded = (\n",
    "    df_std.assign(HomeTeams=df_std[\"HomeTeams\"].str.split(\",\"))\n",
    "          .explode(\"HomeTeams\")\n",
    "          .assign(HomeTeams=lambda x: x[\"HomeTeams\"].str.strip())   # 공백 제거\n",
    "          .rename(columns={\"HomeTeams\": \"team\"})\n",
    ")\n",
    "\n",
    "print(df_expanded.tail())"
   ]
  },
  {
   "cell_type": "code",
   "execution_count": 9,
   "id": "9b0eb691-fecf-49a7-95ec-60607ed1e500",
   "metadata": {},
   "outputs": [
    {
     "name": "stdout",
     "output_type": "stream",
     "text": [
      "                team  max_capacity\n",
      "420             DUSC           500\n",
      "1546          Tatran           480\n",
      "1770     Zorza-Tempo           431\n",
      "324   Caramba/Dinamo           412\n",
      "1181       Pcimianka           384\n"
     ]
    }
   ],
   "source": [
    "# 팀별로 최대 Capacity만 남기기\n",
    "team_max_capacity = (\n",
    "    df_expanded.groupby(\"team\", as_index=False)[\"Capacity\"]\n",
    "               .max()\n",
    "               .rename(columns={\"Capacity\": \"max_capacity\"})\n",
    "               .sort_values(\"max_capacity\", ascending=False)\n",
    ")\n",
    "\n",
    "print(team_max_capacity.tail())"
   ]
  },
  {
   "cell_type": "code",
   "execution_count": 10,
   "id": "25c18a55-939d-4352-a5c2-ac0b5ec09a35",
   "metadata": {},
   "outputs": [
    {
     "name": "stdout",
     "output_type": "stream",
     "text": [
      "            team  max_capacity\n",
      "1              -        153000\n",
      "1728  Wolverines        107601\n",
      "1184  Penn State        106572\n",
      "270     Buckeyes        104944\n",
      "67        Aggies        102733\n"
     ]
    }
   ],
   "source": [
    "team_max_capacity.to_csv(\"dataset/team_max_capacity.csv\",\n",
    "                         index=False,\n",
    "                         encoding=\"utf-8-sig\")\n",
    "\n",
    "print(team_max_capacity.head())"
   ]
  },
  {
   "cell_type": "code",
   "execution_count": null,
   "id": "bf3f60ff-5408-4451-88f0-719e15ca35f7",
   "metadata": {},
   "outputs": [],
   "source": []
  }
 ],
 "metadata": {
  "kernelspec": {
   "display_name": "Python [conda env:base] *",
   "language": "python",
   "name": "conda-base-py"
  },
  "language_info": {
   "codemirror_mode": {
    "name": "ipython",
    "version": 3
   },
   "file_extension": ".py",
   "mimetype": "text/x-python",
   "name": "python",
   "nbconvert_exporter": "python",
   "pygments_lexer": "ipython3",
   "version": "3.12.2"
  }
 },
 "nbformat": 4,
 "nbformat_minor": 5
}
